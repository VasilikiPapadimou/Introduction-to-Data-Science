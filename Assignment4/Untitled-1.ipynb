{
 "cells": [
  {
   "cell_type": "markdown",
   "metadata": {},
   "source": [
    "**Q4**"
   ]
  },
  {
   "cell_type": "code",
   "execution_count": 46,
   "metadata": {},
   "outputs": [
    {
     "data": {
      "text/plain": [
       "-0.17657160252844611"
      ]
     },
     "execution_count": 46,
     "metadata": {},
     "output_type": "execute_result"
    }
   ],
   "source": [
    "import pandas as pd\n",
    "import numpy as np\n",
    "import scipy.stats as stats\n",
    "import re\n",
    "\n",
    "def nba_correlation():\n",
    "    nba_df=pd.read_csv(\"assets/nba.csv\")\n",
    "    cities=pd.read_html(\"assets/wikipedia_data.html\")[1]\n",
    "    cities=cities.iloc[:-1,[0,3,5,6,7,8]]\n",
    "\n",
    "    nba_df=nba_df[nba_df.year == 2018]\n",
    "    nba_df['team'] = nba_df.team.apply(lambda team: re.findall(\"([\\w\\s]*)\\*\", team)[0] if '*' in team else team)\n",
    "    #print(nba_df)\n",
    "    nba_df['team'] = nba_df.team.apply(lambda team: re.findall(\"([\\w\\s]*)\\(\", team)[0] if '(' in team else team)\n",
    "    #print(nba_df)\n",
    "\n",
    "    cities['NBA'] = cities.NBA.apply(lambda team: re.findall(\"([\\w\\s]*)\\[\", team)[0] if '[' in team else team)\n",
    "    #print(cities['NBA'] )\n",
    "    nba_df = nba_df[[\"team\", \"W\", \"L\"]]\n",
    "    #print(nba_df)\n",
    "    nba_df['team_only'] = nba_df.team.apply(lambda x:x.rsplit(None,1)[-1])\n",
    "\n",
    "    nba_df[\"team_only\"] = nba_df[\"team_only\"].replace({\"Blazers\": \"Trail Blazers\",\n",
    "                                        \"Knicks\": \"KnicksNets\",\n",
    "                                        \"Nets\": \"KnicksNets\",\n",
    "                                        \"Lakers\": \"LakersClippers\",\n",
    "                                        \"Clippers\": \"LakersClippers\"}) \n",
    "   \n",
    "    #nba_df.to_excel(\"team-only.xlsx\")\n",
    "\n",
    "    cities.rename(columns={\"Population (2016 est.)[8]\":\"population\", \"NBA\":\"team_only\"},inplace=True )\n",
    "    #cities.to_excel(\"Metropolitan.xlsx\")\n",
    "    nba_df=nba_df[~nba_df.W.str.contains(\"Division\")]\n",
    "    #print(nba_df)\n",
    "    #nba_df=nba_df[[\"team_only\",\"W\",\"L\"]]\n",
    "    nba_df.W=nba_df.W.astype(\"float\")\n",
    "    nba_df.L=nba_df.L.astype(\"float\")\n",
    "    nba_df=nba_df.groupby(by=\"team_only\")[[\"W\",\"L\"]].mean()\n",
    "    #print(nba_df)\n",
    "    nba_df.reset_index(inplace=True)\n",
    "    #print(nba_df)\n",
    "    merged_df=pd.merge(nba_df,cities, how=\"inner\",on=\"team_only\")\n",
    "    merged_df.W=nba_df.W.astype(\"float\")\n",
    "    merged_df.L=nba_df.L.astype(\"float\")\n",
    "    merged_df['win_loss_ratio']=merged_df.W/(merged_df.W + merged_df.L)\n",
    "    merged_df.to_excel(\"blabla.xlsx\")\n",
    "\n",
    "    # YOUR CODE HERE\n",
    "    #raise NotImplementedError()\n",
    "    \n",
    "    population_by_region = pd.to_numeric(merged_df[\"population\"],errors='coerce')# pass in metropolitan area population from cities\n",
    "    win_loss_by_region = pd.to_numeric(merged_df[\"win_loss_ratio\"],errors='coerce') # pass in win/loss ratio from nba_df in the same order as cities[\"Metropolitan area\"]\n",
    "\n",
    "    assert len(population_by_region) == len(win_loss_by_region), \"Q2: Your lists must be the same length\"\n",
    "    assert len(population_by_region) == 28, \"Q2: There should be 28 teams being analysed for NBA\"\n",
    "\n",
    "    return stats.pearsonr(population_by_region, win_loss_by_region)[0]\n",
    "nba_correlation()"
   ]
  },
  {
   "cell_type": "markdown",
   "metadata": {},
   "source": [
    "0.01230899645574425"
   ]
  },
  {
   "cell_type": "markdown",
   "metadata": {},
   "source": [
    "**Q3 MLB**"
   ]
  },
  {
   "cell_type": "code",
   "execution_count": 140,
   "metadata": {},
   "outputs": [
    {
     "name": "stdout",
     "output_type": "stream",
     "text": [
      "according to Visual Studio Environment (26,8)shape:  (26, 8)\n"
     ]
    },
    {
     "data": {
      "text/plain": [
       "0.15052304487104848"
      ]
     },
     "execution_count": 140,
     "metadata": {},
     "output_type": "execute_result"
    }
   ],
   "source": [
    "import pandas as pd\n",
    "import numpy as np\n",
    "import scipy.stats as stats\n",
    "import re\n",
    "\n",
    "def mlb_correlation():\n",
    "    mlb_df=pd.read_csv(\"assets/mlb.csv\")\n",
    "    cities=pd.read_html(\"assets/wikipedia_data.html\")[1]\n",
    "    cities=cities.iloc[:-1,[0,3,5,6,7,8]]\n",
    "\n",
    "    mlb_df=mlb_df[mlb_df.year == 2018]\n",
    "    mlb_df = mlb_df[[\"team\", \"W\", \"L\"]]\n",
    "    #print(mlb_df.shape) #(30,3) \n",
    "    '''mlb_df['team'] = mlb_df.team.apply(lambda team: re.findall(\"([\\w\\s]*)\\*\", team)[0] if '*' in team else team)\n",
    "    #print(mlb_df.shape) #(30,11)\n",
    "\n",
    "    mlb_df['team'] = mlb_df.team.apply(lambda team: re.findall(\"([\\w\\s]*)\\(\", team)[0] if '(' in team else team)\n",
    "    #print(mlb_df.shape) #(30,11)'''\n",
    "\n",
    "    cities['MLB'] = cities.MLB.apply(lambda team: re.findall(\"([\\w\\s]*)\\[\", team)[0] if '[' in team else team)\n",
    "    #print(cities['MLB'].shape) # (51,)\n",
    "    mlb_df[\"team\"]=mlb_df['team'].replace({\"Boston Red Sox\":\"Boston RedSox\",\n",
    "                                           \"Toronto Blue Jays\":\"Toronto BlueJays\",\n",
    "                                           \"Los Angeles Dodgers\": \"DodgersAngels\",\n",
    "                                            \"Los Angeles Angels\" : \"DodgersAngels\",\n",
    "                                            \"New York Yankees\":\"YankeesMets\",   \n",
    "                                            \"New York Mets\":\"YankeesMets\",\n",
    "                                            \"San Francisco Giants\":\"GiantsAthletics\",\n",
    "                                            \"Oakland Athletics\":\"GiantsAthletics\",\n",
    "                                            \"Chicago Cubs\":\"CubsWhiteSox\",\n",
    "                                            \"Chicago White Sox\":\"CubsWhiteSox\"})\n",
    "    mlb_df['team_only'] = mlb_df.team.apply(lambda x:x.rsplit(None,1)[-1])\n",
    "    #print(mlb_df.shape) #(30.4)\n",
    "    mlb_df.to_excel(\"mlb_team-only.xlsx\")\n",
    "\n",
    "    cities.rename(columns={\"Population (2016 est.)[8]\":\"population\", \"MLB\":\"team_only\"},inplace=True)\n",
    "    cities[\"team_only\"]=cities['team_only'].replace({\"Red Sox\":\"RedSox\",\n",
    "                                                    \"Blue Jays\":\"BlueJays\",\n",
    "                                                    \"CubsWhite Sox\":\"CubsWhiteSox\"})\n",
    "    #print(cities.shape) #(51,6)\n",
    "    cities.to_excel(\"Metropolitan.xlsx\")\n",
    "    #mlb_df=mlb_df[~mlb_df.W.str.contains(\"Division\")]\n",
    "    #print(mlb_df)\n",
    "    mlb_df=mlb_df[[\"team_only\",\"W\",\"L\"]]\n",
    "    mlb_df.W=mlb_df.W.astype(\"float\")\n",
    "    mlb_df.L=mlb_df.L.astype(\"float\")\n",
    "    mlb_df=mlb_df.groupby(by=\"team_only\")[[\"W\",\"L\"]].mean()\n",
    "    #print(mlb_df.shape) #(26,2) + the index column\n",
    "\n",
    "    mlb_df.reset_index(inplace=True)\n",
    "    #print(mlb_df)\n",
    "    merged_df=pd.merge(mlb_df,cities, how=\"inner\",on=\"team_only\")\n",
    "    merged_df.to_excel(\"mlb_merged_teamonly.xlsx\")\n",
    "\n",
    "    print(\"according to Visual Studio Environment (26,8)shape: \",merged_df.shape) #(26,8) according to Visual Studio Environment\n",
    "\n",
    "    merged_df.W=mlb_df.W.astype(\"float\")\n",
    "    merged_df.L=mlb_df.L.astype(\"float\")\n",
    "\n",
    "    merged_df['win_loss_ratio']=merged_df.W/(merged_df.W + merged_df.L)\n",
    "    #print(merged_df['win_loss_ratio'])\n",
    "\n",
    "    # YOUR CODE HERE\n",
    "    #raise NotImplementedError()\n",
    "    \n",
    "    population_by_region = pd.to_numeric(merged_df[\"population\"],errors='coerce')# pass in metropolitan area population from cities\n",
    "    win_loss_by_region = pd.to_numeric(merged_df[\"win_loss_ratio\"],errors='coerce') # pass in win/loss ratio from nba_df in the same order as cities[\"Metropolitan area\"]\n",
    "\n",
    "    assert len(population_by_region) == len(win_loss_by_region), \"Q2: Your lists must be the same length\"\n",
    "    assert len(population_by_region) == 26, \"Q2: There should be 28 teams being analysed for MLB\"\n",
    "\n",
    "    return stats.pearsonr(population_by_region, win_loss_by_region)[0]\n",
    "mlb_correlation()"
   ]
  }
 ],
 "metadata": {
  "kernelspec": {
   "display_name": "Python 3",
   "language": "python",
   "name": "python3"
  },
  "language_info": {
   "codemirror_mode": {
    "name": "ipython",
    "version": 3
   },
   "file_extension": ".py",
   "mimetype": "text/x-python",
   "name": "python",
   "nbconvert_exporter": "python",
   "pygments_lexer": "ipython3",
   "version": "3.9.0"
  },
  "orig_nbformat": 4
 },
 "nbformat": 4,
 "nbformat_minor": 2
}
