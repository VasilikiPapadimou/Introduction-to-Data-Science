{
 "cells": [
  {
   "cell_type": "markdown",
   "metadata": {
    "deletable": false,
    "editable": false,
    "etc_identifier": "653a3605-5bda-4e1f-beef-04a0173d3f41",
    "nbgrader": {
     "cell_type": "markdown",
     "checksum": "60da2e57814a61cf6a81dd670bf35473",
     "grade": false,
     "grade_id": "cell-a6c4f74309fc2379",
     "locked": true,
     "schema_version": 3,
     "solution": false
    }
   },
   "source": [
    "# Assignment 4\n",
    "## Description\n",
    "In this assignment you must read in a file of metropolitan regions and associated sports teams from [assets/wikipedia_data.html](assets/wikipedia_data.html) and answer some questions about each metropolitan region. Each of these regions may have one or more teams from the \"Big 4\": NFL (football, in [assets/nfl.csv](assets/nfl.csv)), MLB (baseball, in [assets/mlb.csv](assets/mlb.csv)), NBA (basketball, in [assets/nba.csv](assets/nba.csv) or NHL (hockey, in [assets/nhl.csv](assets/nhl.csv)). Please keep in mind that all questions are from the perspective of the metropolitan region, and that this file is the \"source of authority\" for the location of a given sports team. Thus teams which are commonly known by a different area (e.g. \"Oakland Raiders\") need to be mapped into the metropolitan region given (e.g. San Francisco Bay Area). This will require some human data understanding outside of the data you've been given (e.g. you will have to hand-code some names, and might need to google to find out where teams are)!\n",
    "\n",
    "For each sport I would like you to answer the question: **what is the win/loss ratio's correlation with the population of the city it is in?** Win/Loss ratio refers to the number of wins over the number of wins plus the number of losses. Remember that to calculate the correlation with [`pearsonr`](https://docs.scipy.org/doc/scipy/reference/generated/scipy.stats.pearsonr.html), so you are going to send in two ordered lists of values, the populations from the wikipedia_data.html file and the win/loss ratio for a given sport in the same order. Average the win/loss ratios for those cities which have multiple teams of a single sport. Each sport is worth an equal amount in this assignment (20%\\*4=80%) of the grade for this assignment. You should only use data **from year 2018** for your analysis -- this is important!\n",
    "\n",
    "## Notes\n",
    "\n",
    "1. Do not include data about the MLS or CFL in any of the work you are doing, we're only interested in the Big 4 in this assignment.\n",
    "2. I highly suggest that you first tackle the four correlation questions in order, as they are all similar and worth the majority of grades for this assignment. This is by design!\n",
    "3. It's fair game to talk with peers about high level strategy as well as the relationship between metropolitan areas and sports teams. However, do not post code solving aspects of the assignment (including such as dictionaries mapping areas to teams, or regexes which will clean up names).\n",
    "4. There may be more teams than the assert statements test, remember to collapse multiple teams in one city into a single value!\n",
    "\n",
    "As this assignment utilizes global variables in the skeleton code, to avoid having errors in your code you can either:\n",
    "\n",
    "1. You can place all of your code within the function definitions for all of the questions (other than import statements).\n",
    "2. You can create copies of all the global variables with the copy() method and proceed as usual."
   ]
  },
  {
   "cell_type": "markdown",
   "metadata": {
    "deletable": false,
    "editable": false,
    "nbgrader": {
     "cell_type": "markdown",
     "checksum": "369ff9ecf0ee04640574205cbc697f94",
     "grade": false,
     "grade_id": "cell-712b2b5da63d4505",
     "locked": true,
     "schema_version": 3,
     "solution": false
    }
   },
   "source": [
    "## Question 1\n",
    "For this question, calculate the win/loss ratio's correlation with the population of the city it is in for the **NHL** using **2018** data."
   ]
  },
  {
   "cell_type": "code",
   "execution_count": 314,
   "metadata": {
    "deletable": false,
    "nbgrader": {
     "cell_type": "code",
     "checksum": "1cac4803b02502929f5b1612d48db2b5",
     "grade": false,
     "grade_id": "cell-69b16e4386e58030",
     "locked": false,
     "schema_version": 3,
     "solution": true
    }
   },
   "outputs": [
    {
     "name": "stdout",
     "output_type": "stream",
     "text": [
      "NHL+ CITIES before MERGE (35, 15)\n",
      "NHL+ CITIES AFTER MERGE (31, 18)\n",
      "(28,)\n",
      "(28,)\n"
     ]
    },
    {
     "data": {
      "text/plain": [
       "0.012485959345532892"
      ]
     },
     "execution_count": 314,
     "metadata": {},
     "output_type": "execute_result"
    }
   ],
   "source": [
    "import pandas as pd\n",
    "import numpy as np\n",
    "import scipy.stats as stats\n",
    "import re\n",
    "\n",
    "nhl_df=pd.read_csv(\"assets/nhl.csv\")\n",
    "cities=pd.read_html(\"assets/wikipedia_data.html\")[1]\n",
    "cities=cities.iloc[:-1,[0,3,5,6,7,8]]\n",
    "\n",
    "def clean_nhl_df():\n",
    "    # load data\n",
    "    nhl_df=pd.read_csv(\"assets/nhl.csv\")\n",
    "    cities=pd.read_html(\"assets/wikipedia_data.html\")[1]\n",
    "    cities=cities.iloc[:-1,[0,3,5,6,7,8]]\n",
    "\n",
    "    cities=cities[[\"Metropolitan area\",\"Population (2016 est.)[8]\",\"NHL\"]] #select only these 3 columns\n",
    "#----------------------------------------------------------------------------------------------------\n",
    "    # cleaning the cities dataframe  METROPOLITAN\n",
    "    cities[\"NHL\"] = cities[\"NHL\"].apply(lambda x: re.sub(r\"\\[.+\\]\", \"\", x)) # removes the [] from file teams of NHL \n",
    "    cities[\"NHL\"] = cities[\"NHL\"].replace({\"RangersIslandersDevils\": \"Rangers,Islanders,Devils\",\n",
    "                                           \"KingsDucks\": \"Kings,Ducks\"})  #These are the names of different teams so by replacing them with commas it is helpful to split afterwards                                     \n",
    "    cities[\"NHL\"] = cities[\"NHL\"].apply(lambda x: x.split(\",\")) #Splits the cities[\"NHL\"] by , operator\n",
    "    cities = cities.explode(\"NHL\") #explode(), takes the previous splited string result and prints it in different lines\n",
    "    #print(\"Cities after explode : \",cities.shape)\n",
    "    #cities.to_excel(\"Cities.xlsx\") #gets all the entries from Metropolitan html \n",
    "#----------------------------------------------------------------------------------------------------\n",
    "    # cleaning the nhl_df dataframe NHL\n",
    "    nhl_df = nhl_df[nhl_df[\"year\"] == 2018] #we want only the 2018 year\n",
    "    #print(nhl_df[[\"team\",\"W\",\"L\"]]) #get only 3 columns of the whole file\n",
    "    nhl_df[\"team\"] = nhl_df[\"team\"].apply(lambda x: x.replace(\"*\", \"\")) #remove * from team column\n",
    "    nhl_df[\"team\"] = nhl_df[\"team\"].replace({\"Detroit Red Wings\": \"Detroit Red,Wings\", \n",
    "                                           \"Toronto Maple Leafs\": \"Toronto Maple,Leafs\", \n",
    "                                           \"Columbus Blue Jackets\": \"Columbus Blue,Jackets\",\n",
    "                                           \"Vegas Golden Knights\": \"Vegas Golden,Knights\" })\n",
    "    nhl_df[\"team\"] = nhl_df[\"team\"].apply(lambda x: x.split(' ')[-1]) #split the above replaced strings according to \\s -> space\n",
    "    nhl_df[\"team\"] = nhl_df[\"team\"].replace({\"Red,Wings\": \"Red Wings\", \n",
    "                                           \"Maple,Leafs\": \"Maple Leafs\", \n",
    "                                           \"Blue,Jackets\": \"Blue Jackets\",\n",
    "                                           \"Golden,Knights\": \"Golden Knights\" }) #since it is not right to print the teams separated by comma, replace the \n",
    "                                                                                #commas once again with space charachter\n",
    "    #print(\"NHL : \",nhl_df.shape)\n",
    "    print(\"NHL+ CITIES before MERGE\",nhl_df.shape)\n",
    "    # merge the dataframes\n",
    "    df = pd.merge(cities, nhl_df, left_on=\"NHL\", right_on=\"team\") #merge the cities and dhl_df dataframes to a new one according to \n",
    "                                                                  #the columns refering to the teams\n",
    "    #df.to_excel('MergedCitiesNHL_df.xlsx')\n",
    "    print(\"NHL+ CITIES AFTER MERGE\",df.shape)\n",
    "\n",
    "    df = df[[\"Metropolitan area\", \"Population (2016 est.)[8]\", \"NHL\", \"team\", \"W\", \"L\"]] #these are the columns need to print\n",
    "    df[\"W-L%\"] = df[\"W\"].astype(\"int\")/(df[\"W\"].astype(\"int\") + df[\"L\"].astype(\"int\"))  #calculate the W-L ratio(%) as integer type \n",
    "\n",
    "    df[\"Population (2016 est.)[8]\"] = df[\"Population (2016 est.)[8]\"].astype(\"float\") \n",
    "    df[\"W-L%\"] = df[\"W-L%\"].astype(\"float\")#transform the population,W and L% to float number\n",
    "\n",
    "    # drop duplicated columns\n",
    "    df.loc[df[\"Metropolitan area\"] == \"New York City\", \"W-L%\"]= 0.5182013333333334 #0.5182014205986808 # mean of NY W-L%\n",
    "    #print(df.mean())\n",
    "    df.loc[df[\"Metropolitan area\"] == \"Los Angeles\", \"W-L%\"]= 0.6228945 #0.622894633764199 # mean of LA W-L%\n",
    "    #print(df.mean())\n",
    "    df = df.drop_duplicates(subset=\"Metropolitan area\").reset_index()\n",
    "    df = df.drop(columns=\"index\")\n",
    "    #print(\"NHL+ CITIES AFTER AVERAGE \",df.shape)\n",
    "    return df\n",
    "def nhl_correlation(): \n",
    "    # YOUR CODE HERE\n",
    "    #raise NotImplementedError()\n",
    "    df = clean_nhl_df()\n",
    "\n",
    "    population_by_region = df[\"Population (2016 est.)[8]\"] # pass in metropolitan area population from cities\n",
    "    print(population_by_region.shape)\n",
    "    win_loss_by_region = df[\"W-L%\"] # pass in win/loss ratio from nhl_df in the same order as cities[\"Metropolitan area\"]\n",
    "    print(win_loss_by_region.shape)\n",
    "    assert len(population_by_region) == len(win_loss_by_region), \"Q1: Your lists must be the same length\"\n",
    "    assert len(population_by_region) == 28, \"Q1: There should be 28 teams being analysed for NHL\"\n",
    "    \n",
    "    result = stats.pearsonr(population_by_region, win_loss_by_region)\n",
    "    \n",
    "    return result[0]\n",
    "nhl_correlation()"
   ]
  },
  {
   "cell_type": "code",
   "execution_count": null,
   "metadata": {
    "deletable": false,
    "editable": false,
    "nbgrader": {
     "cell_type": "code",
     "checksum": "52a581df513c71153e105b93764cda4b",
     "grade": true,
     "grade_id": "cell-ebe0b2dfe1067e63",
     "locked": true,
     "points": 20,
     "schema_version": 3,
     "solution": false
    }
   },
   "outputs": [],
   "source": []
  },
  {
   "cell_type": "markdown",
   "metadata": {
    "deletable": false,
    "editable": false,
    "nbgrader": {
     "cell_type": "markdown",
     "checksum": "988912cae4968d81473f46d783e79c16",
     "grade": false,
     "grade_id": "cell-cb964e690298b71d",
     "locked": true,
     "schema_version": 3,
     "solution": false
    }
   },
   "source": [
    "## Question 2\n",
    "For this question, calculate the win/loss ratio's correlation with the population of the city it is in for the **NBA** using **2018** data."
   ]
  },
  {
   "cell_type": "code",
   "execution_count": 315,
   "metadata": {
    "deletable": false,
    "nbgrader": {
     "cell_type": "code",
     "checksum": "9394222aafc8ccab0a228098ba0d6010",
     "grade": false,
     "grade_id": "cell-5a5f21279e3d3572",
     "locked": false,
     "schema_version": 3,
     "solution": true
    }
   },
   "outputs": [
    {
     "name": "stdout",
     "output_type": "stream",
     "text": [
      "(28,)\n",
      "(28,)\n"
     ]
    },
    {
     "data": {
      "text/plain": [
       "(-0.17657160252844617, 0.36874741604463)"
      ]
     },
     "execution_count": 315,
     "metadata": {},
     "output_type": "execute_result"
    }
   ],
   "source": [
    "import pandas as pd\n",
    "import numpy as np\n",
    "import scipy.stats as stats\n",
    "import re\n",
    "\n",
    "nba_df=pd.read_csv(\"assets/nba.csv\")\n",
    "cities=pd.read_html(\"assets/wikipedia_data.html\")[1]\n",
    "cities=cities.iloc[:-1,[0,3,5,6,7,8]]\n",
    "\n",
    "def clean_nba_df():\n",
    "    # load data\n",
    "    nba_df=pd.read_csv(\"assets/nba.csv\")\n",
    "    cities=pd.read_html(\"assets/wikipedia_data.html\")[1]\n",
    "    cities=cities.iloc[:-1,[0,3,5,6,7,8]]\n",
    "    cities=cities[[\"Metropolitan area\",\"Population (2016 est.)[8]\",\"NBA\"]] #select only these 3 columns\n",
    "    #print(\"Initial cities Dataframe with metropolitan cities: \",cities.shape) #shape (51,3)\n",
    "#----------------------------------------------------------------------------------------------------\n",
    "    # cleaning the cities dataframe  METROPOLITAN\n",
    "    cities[\"NBA\"] = cities[\"NBA\"].apply(lambda x: re.sub(r\"\\[.+\\]\", \"\", x)) # removes the [] from file teams of NBA \n",
    "    cities[\"NBA\"] = cities[\"NBA\"].replace({\"KnicksNets\": \"Knicks,Nets\",\n",
    "                                           \"LakersClippers\": \"Lakers,Clippers\"})  #These are the names of different teams so by replacing them with commas it is helpful to split afterwards                                     \n",
    "    \n",
    "    cities[\"NBA\"] = cities[\"NBA\"].apply(lambda x: x.split(\",\")) #Splits the cities[\"NHL\"] by , operator\n",
    "    #print(\"Cities before explode : \",cities.shape) #shape (51,3)\n",
    "    cities.to_excel(\"CitiesNBA.xlsx\") #gets all the entries from Metropolitan html \n",
    "\n",
    "    cities = cities.explode(\"NBA\") #explode(), takes the previous splited string result and prints it in different lines\n",
    "    #print(\"Cities after explode : \",cities.shape) #shape (53,3)\n",
    "    cities.to_excel(\"CitiesNBA.xlsx\") #gets all the entries from Metropolitan html \n",
    "#----------------------------------------------------------------------------------------------------\n",
    "    # cleaning the nba_df dataframe NBA\n",
    "    nba_df = nba_df[nba_df[\"year\"] == 2018] #we want only the 2018 year  \n",
    "    nba_df=nba_df[[\"team\",\"W\",\"L\"]] #get only 3 columns of the whole file\n",
    "    #print(\"After choosing to print only 3 columns of the file\",nba_df.shape) #shape(30,3)\n",
    "   \n",
    "    nba_df[\"team\"] = nba_df[\"team\"].apply(lambda x: re.sub(r\"(\\*)*\\s\\(\\d+\\)\", \"\",x)) #remove * from team column\n",
    "    \n",
    "    nba_df[\"team\"] = nba_df[\"team\"].replace({\"Brooklyn Nets\": \"New York Nets\"})\n",
    "    nba_df[\"team\"] = nba_df[\"team\"].apply(lambda x: x.split(' ')[-1]) #split the above replaced strings according to \\s -> space\n",
    "    \n",
    "    nba_df[\"team\"] = nba_df[\"team\"].replace({\"Blazers\": \"Trail Blazers\"}) #NBA_df file acording to the previous action changed Trail Blazers to Blazers \n",
    "                                                                          #and now we take it back to its initial form\n",
    "    #print(\"NBA teams before MERGE\",nba_df.shape)\n",
    "    nba_df.to_excel(\"NBA_df.xlsx\") #gets all the entries from nba.xlsx\n",
    "\n",
    "#------------------------------------------------------------------------------------------------------------    \n",
    "    # merge the dataframes\n",
    "    df = pd.merge(cities, nba_df, left_on=\"NBA\", right_on=\"team\") #merge the cities and dhl_df dataframes to a new one according to \n",
    "                                                                  #the columns refering to the teams\n",
    "    #print(\"NBA and Cities dataframes AFTER merge\",df.shape) #shape(30, 6)\n",
    "\n",
    "    df[\"W-L%\"] = df[\"W\"].astype(\"float\")/(df[\"W\"].astype(\"float\") + df[\"L\"].astype(\"float\"))  #calculate the W-L ratio(%) as integer type \n",
    "    #print(df[\"W-L%\"])\n",
    "    df = df[[\"Metropolitan area\", \"Population (2016 est.)[8]\",\"NBA\",\"team\", \"W\", \"L\",\"W-L%\"]] #these are the columns need to print\n",
    "    #print(\"File after merge and ratio calculation: \",df.shape) #shape(30, 7) includes both a column NBA (with teams) and a column teams which are the same\n",
    "    #df.to_excel(\"NBA_teamsAfterMerge.xlsx\") #gets all the entries from nba.xlsx\n",
    "\n",
    "    # turns everything to float for the calculation of correlation\n",
    "    df[\"Population (2016 est.)[8]\"] = df[\"Population (2016 est.)[8]\"].astype(\"float\") \n",
    "    #df[\"W-L%\"] = df[\"W-L%\"].astype(\"float\")#transform the population,W-L% to float number\n",
    "    \n",
    " #-------------------------------------------------------------------------------------------------------------   \n",
    "    # drop duplicated columns\n",
    "    #df1=df[df[\"Metropolitan area\"]==\"New York City\"] #for debugging\n",
    "    #print(df1)\n",
    "    #df2=df[df[\"Metropolitan area\"]==\"Los Angeles\"]  #for debugging\n",
    "    #print(df2)\n",
    "\n",
    "    df = df[[\"Metropolitan area\", \"Population (2016 est.)[8]\", \"W-L%\"]]  #shape(30,3)\n",
    "    df1=df.groupby(\"Metropolitan area\").mean()[\"W-L%\"]   #we have 2 rows with NewYork and 2 with LA so we calculate the mean here shape(28,)\n",
    "    df2 = df[[\"Metropolitan area\", \"Population (2016 est.)[8]\"]].drop_duplicates()\n",
    "    #print(df2.shape) # shape(28,2)\n",
    "\n",
    "    df = pd.merge(df1, df2, left_on=\"Metropolitan area\", right_on=\"Metropolitan area\")\n",
    "    #print(df.shape)  #shape(28,3)\n",
    "\n",
    "    #df.to_excel(\"NBA_teamsAfterMerge.xlsx\") #gets all the entries from nba.xlsx\n",
    "    #print(df)\n",
    " #-------------------------------------------------------------------------------------------------------------   \n",
    "    return df\n",
    "\n",
    "def nba_correlation(): \n",
    "    # YOUR CODE HERE\n",
    "    #raise NotImplementedError()\n",
    "    df = clean_nba_df()\n",
    "\n",
    "    population_by_region = df[\"Population (2016 est.)[8]\"] # pass in metropolitan area population from cities\n",
    "    print(population_by_region.shape)\n",
    "    win_loss_by_region = df[\"W-L%\"] # pass in win/loss ratio from nhl_df in the same order as cities[\"Metropolitan area\"]\n",
    "    print(win_loss_by_region.shape)\n",
    "\n",
    "    assert len(population_by_region) == len(win_loss_by_region), \"Q1: Your lists must be the same length\"\n",
    "    assert len(population_by_region) == 28, \"Q1: There should be 28 teams being analysed for NBA\"\n",
    "    \n",
    "    result = stats.pearsonr(population_by_region, win_loss_by_region)\n",
    "    \n",
    "    return result\n",
    "nba_correlation()"
   ]
  },
  {
   "cell_type": "code",
   "execution_count": 307,
   "metadata": {
    "deletable": false,
    "editable": false,
    "nbgrader": {
     "cell_type": "code",
     "checksum": "bbdeb8eb22f525a34c10dc8798324e42",
     "grade": true,
     "grade_id": "cell-e573b2b4a282b470",
     "locked": true,
     "points": 20,
     "schema_version": 3,
     "solution": false
    }
   },
   "outputs": [
    {
     "data": {
      "text/plain": [
       "(-0.17657160252844617, 0.36874741604463)"
      ]
     },
     "execution_count": 307,
     "metadata": {},
     "output_type": "execute_result"
    }
   ],
   "source": [
    "nba_correlation()"
   ]
  },
  {
   "cell_type": "markdown",
   "metadata": {},
   "source": [
    "youtube introduction to data science in python week4 assignment4 coursera\n",
    "programming with danish\n",
    "Ass3 (0.15052304487104848)   \n",
    "Ass4 (0.004922112149349429)  0.004922112149349428"
   ]
  },
  {
   "cell_type": "markdown",
   "metadata": {
    "deletable": false,
    "editable": false,
    "nbgrader": {
     "cell_type": "markdown",
     "checksum": "1a1a5809f675ca033086422007cd73bd",
     "grade": false,
     "grade_id": "cell-96e15e4335df78f4",
     "locked": true,
     "schema_version": 3,
     "solution": false
    }
   },
   "source": [
    "## Question 3\n",
    "For this question, calculate the win/loss ratio's correlation with the population of the city it is in for the **MLB** using **2018** data."
   ]
  },
  {
   "cell_type": "code",
   "execution_count": 321,
   "metadata": {},
   "outputs": [
    {
     "data": {
      "text/plain": [
       "0.15027698302669307"
      ]
     },
     "execution_count": 321,
     "metadata": {},
     "output_type": "execute_result"
    }
   ],
   "source": [
    "import pandas as pd\n",
    "import numpy as np\n",
    "import scipy.stats as stats\n",
    "import re\n",
    "\n",
    "mlb_df=pd.read_csv(\"assets/mlb.csv\")\n",
    "cities=pd.read_html(\"assets/wikipedia_data.html\")[1]\n",
    "cities=cities.iloc[:-1,[0,3,5,6,7,8]]\n",
    "#print(cities)\n",
    "\n",
    "def clean_mlb_df():\n",
    "    # load data\n",
    "    mlb_df=pd.read_csv(\"assets/mlb.csv\")\n",
    "    cities=pd.read_html(\"assets/wikipedia_data.html\")[1]\n",
    "    cities=cities.iloc[:-1,[0,3,5,6,7,8]]\n",
    "    cities=cities[[\"Metropolitan area\",\"Population (2016 est.)[8]\",\"MLB\"]] #select only these 3 columns\n",
    "    #print(\"Initial cities Dataframe with metropolitan cities: \",cities.shape) #shape (51,3)\n",
    "#----------------------------------------------------------------------------------------------------\n",
    "    # cleaning the cities dataframe  METROPOLITAN\n",
    "    cities[\"MLB\"] = cities[\"MLB\"].apply(lambda x: re.sub(r\"\\[.+\\]\", \"\", x)) # removes the [] from file teams of MLB \n",
    "    #cities.to_excel(\"CitiesMLB.xlsx\")\n",
    "\n",
    "    cities[\"MLB\"] = cities[\"MLB\"].replace({\"YankeesMets\": \"Yankees,Mets\",\n",
    "                                           \"DodgersAngels\": \"Dodgers,Angels\",\n",
    "                                           \"GiantsAthletics\":\"Giants,Athletics\",\n",
    "                                           \"CubsWhite Sox\":\"Cubs,White Sox\"})  #These are the names of different teams so by replacing them with commas it is helpful to split afterwards                                     \n",
    "    \n",
    "    cities[\"MLB\"] = cities[\"MLB\"].apply(lambda x: x.split(\",\")) #Splits the cities[\"MLB\"] by , operator\n",
    "    #print(\"Cities before explode : \",cities.shape) #shape (51,3)\n",
    "    #cities.to_excel(\"CitiesMLB.xlsx\") #gets all the entries from Metropolitan html \n",
    "\n",
    "    cities = cities.explode(\"MLB\") #explode(), takes the previous splited string result and prints it in different lines\n",
    "    #print(\"Cities after explode : \",cities.shape) #shape (55,3)\n",
    "    cities.to_excel(\"CitiesMLB.xlsx\") #gets all the entries from Metropolitan html \n",
    "#----------------------------------------------------------------------------------------------------\n",
    "    # cleaning the nba_df dataframe NBA\n",
    "    mlb_df = mlb_df[mlb_df[\"year\"] == 2018] #we want only the 2018 year  \n",
    "    mlb_df=mlb_df[[\"team\",\"W\",\"L\"]] #get only 3 columns of the whole file\n",
    "    #print(\"After choosing to print only 3 columns of the file\",mlb_df.shape) #shape(30,3)\n",
    "    #mlb_df.to_excel(\"MLB_df.xlsx\") #gets all the entries from nba.xlsx\n",
    "    \n",
    "    mlb_df[\"team\"] = mlb_df[\"team\"].replace({\"Oakland Athletics\": \"San Francisco Bay Area Athletics\",\n",
    "                                               \"San Francisco Giants\" : \"San Francisco Bay Area Giants\",\n",
    "                                               \"Boston Red Sox\":\"Boston RedSox\",   \n",
    "                                               \"Chicago White Sox\":\"Chicago WhiteSox\"})#NBA_df file acording to the previous action changed Trail Blazers to Blazers \n",
    "                                                                             #and now we take it back to its initial form \n",
    "    mlb_df[\"team\"] = mlb_df[\"team\"].apply(lambda x: x.split(' ')[-1]) #split the above replaced strings according to \\s -> space\n",
    "    mlb_df[\"team\"] = mlb_df[\"team\"].replace({ \"RedSox\":\"Red Sox\",\n",
    "                                                \"Jays\": \"Blue Jays\",\n",
    "                                                \"WhiteSox\":\"White Sox\"})  \n",
    "    \n",
    "    #print(\"MLB teams before MERGE\",mlb_df.shape)  #shape(30,3)\n",
    "    mlb_df.to_excel(\"MLB_df.xlsx\") #gets all the entries from nba.xlsx\n",
    "\n",
    "#------------------------------------------------------------------------------------------------------------    \n",
    "    # merge the dataframes\n",
    "    df = pd.merge(cities, mlb_df, left_on=\"MLB\", right_on=\"team\") #merge the cities and mlb_df dataframes to a new one according to \n",
    "                                                                  #the columns refering to the teams\n",
    "    #print(\"MLB and Cities dataframes AFTER merge\",df.shape) #shape(30, 6)\n",
    "\n",
    "    df[\"W-L%\"] = df[\"W\"].astype(\"float\")/(df[\"W\"].astype(\"float\") + df[\"L\"].astype(\"float\"))  #calculate the W-L ratio(%) as integer type \n",
    "    #print(df[\"W-L%\"])\n",
    "    df = df[[\"Metropolitan area\", \"Population (2016 est.)[8]\",\"MLB\",\"team\", \"W\", \"L\",\"W-L%\"]] #these are the columns need to print\n",
    "    #print(\"File after merge and ratio calculation: \",df.shape) #shape(30, 7) includes both a column MLB (with teams) and a column teams which are the same\n",
    "\n",
    "    # turns everything to float for the calculation of correlation\n",
    "    df[\"Population (2016 est.)[8]\"] = df[\"Population (2016 est.)[8]\"].astype(\"float\") \n",
    "    df.to_excel(\"MLB_teamsAfterMerge.xlsx\") #gets all the entries from nba.xlsx\n",
    "\n",
    " #-------------------------------------------------------------------------------------------------------------   \n",
    "    # drop duplicated columns\n",
    "    #df1=df[df[\"Metropolitan area\"]==\"New York City\"] #for debugging\n",
    "    #print(df1)\n",
    "    #df2=df[df[\"Metropolitan area\"]==\"Los Angeles\"]  #for debugging\n",
    "    #print(df2)\n",
    "\n",
    "    df = df[[\"Metropolitan area\", \"Population (2016 est.)[8]\", \"W-L%\"]]  #shape(30,3)\n",
    "    #print(df.shape)\n",
    "    df1=df.groupby(\"Metropolitan area\").mean()[\"W-L%\"]   #we have 2 rows with NewYork and 2 with LA so we calculate the mean here shape(28,)\n",
    "    df2 = df[[\"Metropolitan area\", \"Population (2016 est.)[8]\"]].drop_duplicates()\n",
    "    #print(df2.shape) # shape(26,2)\n",
    "\n",
    "    df = pd.merge(df1, df2, left_on=\"Metropolitan area\", right_on=\"Metropolitan area\")\n",
    "    #print(df.shape)  #shape(26,3)\n",
    "\n",
    "    df.to_excel(\"MLB_teamsAfterMerge.xlsx\") #gets all the entries from nba.xlsx\n",
    "    #print(df)\n",
    " #-------------------------------------------------------------------------------------------------------------   \n",
    "    return df\n",
    "\n",
    "def mlb_correlation(): \n",
    "    # YOUR CODE HERE\n",
    "    #raise NotImplementedError()\n",
    "    df = clean_mlb_df()\n",
    "    population_by_region = df[\"Population (2016 est.)[8]\"] # pass in metropolitan area population from cities\n",
    "    win_loss_by_region = df[\"W-L%\"] \n",
    "    assert len(population_by_region) == len(win_loss_by_region), \"Q3: Your lists must be the same length\"\n",
    "    assert len(population_by_region) == 26, \"Q3: There should be 26 teams being analysed for MLB\"\n",
    "\n",
    "    result= stats.pearsonr(population_by_region, win_loss_by_region)\n",
    "    \n",
    "    return result[0]\n",
    "mlb_correlation()"
   ]
  },
  {
   "cell_type": "code",
   "execution_count": null,
   "metadata": {
    "deletable": false,
    "editable": false,
    "nbgrader": {
     "cell_type": "code",
     "checksum": "cda33b094ba19ccc37a481e0dd29e0bc",
     "grade": true,
     "grade_id": "cell-764d4476f425c5a2",
     "locked": true,
     "points": 20,
     "schema_version": 3,
     "solution": false
    }
   },
   "outputs": [],
   "source": [
    "0.15052304487104848"
   ]
  },
  {
   "cell_type": "markdown",
   "metadata": {
    "deletable": false,
    "editable": false,
    "nbgrader": {
     "cell_type": "markdown",
     "checksum": "6977a6da9ed6d8b7a0b7e37bbeda709b",
     "grade": false,
     "grade_id": "cell-793df6c04dfb126e",
     "locked": true,
     "schema_version": 3,
     "solution": false
    }
   },
   "source": [
    "## Question 4\n",
    "For this question, calculate the win/loss ratio's correlation with the population of the city it is in for the **NFL** using **2018** data."
   ]
  },
  {
   "cell_type": "code",
   "execution_count": 318,
   "metadata": {
    "deletable": false,
    "nbgrader": {
     "cell_type": "code",
     "checksum": "c4914ad1e119278ec2bd567c52640b66",
     "grade": false,
     "grade_id": "cell-8ccebc209aeec8d9",
     "locked": false,
     "schema_version": 3,
     "solution": true
    }
   },
   "outputs": [
    {
     "name": "stdout",
     "output_type": "stream",
     "text": [
      "(29,)\n",
      "(29,)\n"
     ]
    },
    {
     "data": {
      "text/plain": [
       "0.004922112149349428"
      ]
     },
     "execution_count": 318,
     "metadata": {},
     "output_type": "execute_result"
    }
   ],
   "source": [
    "import pandas as pd\n",
    "import numpy as np\n",
    "import scipy.stats as stats\n",
    "import re\n",
    "\n",
    "nfl_df=pd.read_csv(\"assets/nfl.csv\")\n",
    "cities=pd.read_html(\"assets/wikipedia_data.html\")[1]\n",
    "cities=cities.iloc[:-1,[0,3,5,6,7,8]]\n",
    "\n",
    "def clean_nfl_df():\n",
    "    # load data\n",
    "    nfl_df=pd.read_csv(\"assets/nfl.csv\")\n",
    "    cities=pd.read_html(\"assets/wikipedia_data.html\")[1]\n",
    "    cities=cities.iloc[:-1,[0,3,5,6,7,8]]\n",
    "    cities=cities[[\"Metropolitan area\",\"Population (2016 est.)[8]\",\"NFL\"]] #select only these 3 columns\n",
    "    #print(\"Initial cities Dataframe with metropolitan cities: \",cities.shape) #shape (51,3)\n",
    "#----------------------------------------------------------------------------------------------------\n",
    "    # cleaning the cities dataframe  METROPOLITAN\n",
    "    cities[\"NFL\"] = cities[\"NFL\"].apply(lambda x: re.sub(r\"\\[.+\\]\", \"\", x)) # removes the [] from file teams of MLB \n",
    "\n",
    "    cities[\"NFL\"] = cities[\"NFL\"].replace({\"GiantsJets\": \"Giants,Jets\",\n",
    "                                             \"RamsChargers\": \"Rams,Chargers\",\n",
    "                                             \"49ersRaiders\":\"49ers,Raiders\"})  #These are the names of different teams so by replacing them with commas \n",
    "                                                                                 #it is helpful to split afterwards                                     \n",
    "    cities.to_excel(\"CitiesNFL.xlsx\")\n",
    "\n",
    "    cities[\"NFL\"] = cities[\"NFL\"].apply(lambda x: x.split(\",\")) #Splits the cities[\"MLB\"] by , operator\n",
    "    #print(\"Cities before explode : \",cities.shape) #shape (51,3)\n",
    "    #cities.to_excel(\"CitiesNFL.xlsx\") #gets all the entries from Metropolitan html \n",
    "\n",
    "    cities = cities.explode(\"NFL\") #explode(), takes the previous splited string result and prints it in different lines\n",
    "    #print(\"Cities after explode : \",cities.shape) #shape (54,3)\n",
    "    cities.to_excel(\"CitiesNFL.xlsx\") #gets all the entries from Metropolitan html \n",
    "#----------------------------------------------------------------------------------------------------\n",
    "    # cleaning the nba_df dataframe NBA\n",
    "    nfl_df = nfl_df[nfl_df[\"year\"] == 2018] #we want only the 2018 year  \n",
    "    nfl_df=nfl_df[[\"team\",\"W\",\"L\"]] #get only 3 columns of the whole file\n",
    "    #print(\"After choosing to print only 3 columns of the file\",nfl_df.shape) #shape(40,3)\n",
    "    nfl_df[\"team\"] = nfl_df[\"team\"].apply(lambda x: re.sub(r\"(\\*|\\+)\", \"\",x)) #remove * from team column\n",
    "    #nfl_df.to_excel(\"NFL_df.xlsx\") #gets all the entries from nba.xlsx\n",
    "\n",
    "    nfl_df[\"team\"] = nfl_df[\"team\"].replace({\"New York Jets\":\"New York City Jets\",\n",
    "                                                \"New York Giants\":\"New York City Giants\",\n",
    "                                                \"Oakland Raiders\": \"San Francisco Bay Area Raiders\",\n",
    "                                               \"San Francisco 49ers\" : \"San Francisco Bay Area 49ers\",\n",
    "                                               \"Dallas Cowboys\":\"Dallas-Fort Cowboys\",   \n",
    "                                               \"Washington Redskins\":\"Washington,D.C. Redskins\",\n",
    "                                               \"New England Patriots\":\"Boston Patriots\",\n",
    "                                               \"Minnesota Vikings\":\"Minneapolis-Saint Paul Vikings\",\n",
    "                                               \"Miami Dolphins\":\"Miami–Fort Lauderdale Dolphins\",\n",
    "                                               \"Arizona Cardinals\":\"Phoenix Cardinals\",\n",
    "                                               \"Tampa Bay Buccaneers\":\"Tampa Bay Area Buccaneers\",\n",
    "                                               \"Carolina Panthers\":\"Charlotte Panthers\",\n",
    "                                               \"Tennessee Titans\":\"Nashville Titans\"})  \n",
    "\n",
    "    nfl_df[\"team\"] = nfl_df[\"team\"].apply(lambda x: x.split(' ')[-1]) #split the above replaced strings according to \\s -> space\n",
    "    \n",
    "    #print(\"NFL teams before MERGE\",nfl_df.shape)  #shape(40,3)\n",
    "    #nfl_df.to_excel(\"NFL_df.xlsx\") #gets all the entries from nba.xlsx\n",
    "#------------------------------------------------------------------------------------------------------------    \n",
    "       # merge the dataframes\n",
    "    df = pd.merge(cities, nfl_df, left_on=\"NFL\", right_on=\"team\") #merge the cities and mlb_df dataframes to a new one according to \n",
    "                                                                  #the columns refering to the teams\n",
    "    #print(\"NFL and Cities dataframes AFTER merge\",df.shape) #shape(30, 6)\n",
    "    #df.to_excel(\"NFL_teamsAfterMerge.xlsx\")\n",
    "\n",
    "    # MEAN Calculation\n",
    "    df = df[[\"Metropolitan area\", \"Population (2016 est.)[8]\",\"W\",\"L\"]]  #shape(32,3)\n",
    "    #print(df)\n",
    "    df[\"W\"]=df[\"W\"].astype(\"float\")\n",
    "    df[\"L\"]=df[\"L\"].astype(\"float\")\n",
    "    #print(df)\n",
    "    df=df.groupby([\"Metropolitan area\",\"Population (2016 est.)[8]\"])[[\"W\",\"L\"]].mean() # creates all the columns needed and calculates the mean and drops duplicates\n",
    "    #print(\"df   \",df.shape) #shape(29,2)\n",
    "    df[\"W-L%\"] = df[\"W\"]/(df[\"W\"]+ df[\"L\"])  #adds the W-L% column\n",
    "    #print(df.index)\n",
    "    df=df.reset_index(level=1)\n",
    "    df[\"Population (2016 est.)[8]\"] = df[\"Population (2016 est.)[8]\"].astype(\"float\")\n",
    "    #print(df.shape)\n",
    "\n",
    "    #print(df[\"Population (2016 est.)[8]\"].shape)\n",
    "    df.to_excel(\"NFL_teamsAfterMerge.xlsx\") #gets all the entries from nfl.xlsx\n",
    "    #print(\"File after merge and ratio calculation: \",df.shape) #shape(29, 3) includes both a column MLB (with teams) and a column teams which are the same\n",
    " #-------------------------------------------------------------------------------------------------------------   \n",
    "    return df\n",
    "def nfl_correlation(): \n",
    "    # YOUR CODE HERE\n",
    "    #raise NotImplementedError()\n",
    "    df = clean_nfl_df()\n",
    "\n",
    "    population_by_region = df[\"Population (2016 est.)[8]\"] # pass in metropolitan area population from cities\n",
    "    print(population_by_region.shape)\n",
    "    win_loss_by_region = df[\"W-L%\"] # pass in win/loss ratio from nfl_df in the same order as cities[\"Metropolitan area\"]\n",
    "    print(win_loss_by_region.shape)\n",
    "    assert len(population_by_region) == len(win_loss_by_region), \"Q4: Your lists must be the same length\"\n",
    "    assert len(population_by_region) == 29, \"Q4: There should be 29 teams being analysed for NFL\"\n",
    "    result= stats.pearsonr(population_by_region, win_loss_by_region)\n",
    "    \n",
    "    return result[0]\n",
    "nfl_correlation()"
   ]
  },
  {
   "cell_type": "code",
   "execution_count": null,
   "metadata": {
    "deletable": false,
    "editable": false,
    "nbgrader": {
     "cell_type": "code",
     "checksum": "e9415d6399aa49e3a1a60813afdefa3b",
     "grade": true,
     "grade_id": "cell-de7b148b9554dbda",
     "locked": true,
     "points": 20,
     "schema_version": 3,
     "solution": false
    }
   },
   "outputs": [],
   "source": []
  },
  {
   "cell_type": "markdown",
   "metadata": {
    "deletable": false,
    "editable": false,
    "nbgrader": {
     "cell_type": "markdown",
     "checksum": "b02d5cd3273f561e4ae939bb2a41740c",
     "grade": false,
     "grade_id": "cell-97b49d8639e908c4",
     "locked": true,
     "schema_version": 3,
     "solution": false
    }
   },
   "source": [
    "## Question 5\n",
    "In this question I would like you to explore the hypothesis that **given that an area has two sports teams in different sports, those teams will perform the same within their respective sports**. How I would like to see this explored is with a series of paired t-tests (so use [`ttest_rel`](https://docs.scipy.org/doc/scipy/reference/generated/scipy.stats.ttest_rel.html)) between all pairs of sports. Are there any sports where we can reject the null hypothesis? Again, average values where a sport has multiple teams in one region. Remember, you will only be including, for each sport, cities which have teams engaged in that sport, drop others as appropriate. This question is worth 20% of the grade for this assignment."
   ]
  },
  {
   "cell_type": "code",
   "execution_count": null,
   "metadata": {
    "deletable": false,
    "nbgrader": {
     "cell_type": "code",
     "checksum": "6d78c961eb66f8d8c81f06d33ae8f393",
     "grade": false,
     "grade_id": "cell-92f25f44b8d1179f",
     "locked": false,
     "schema_version": 3,
     "solution": true
    }
   },
   "outputs": [],
   "source": [
    "import pandas as pd\n",
    "import numpy as np\n",
    "import scipy.stats as stats\n",
    "import re\n",
    "\n",
    "mlb_df=pd.read_csv(\"assets/mlb.csv\")\n",
    "nhl_df=pd.read_csv(\"assets/nhl.csv\")\n",
    "nba_df=pd.read_csv(\"assets/nba.csv\")\n",
    "nfl_df=pd.read_csv(\"assets/nfl.csv\")\n",
    "cities=pd.read_html(\"assets/wikipedia_data.html\")[1]\n",
    "cities=cities.iloc[:-1,[0,3,5,6,7,8]]\n",
    "\n",
    "def sports_team_performance():\n",
    "    # YOUR CODE HERE\n",
    "    raise NotImplementedError()\n",
    "    \n",
    "    # Note: p_values is a full dataframe, so df.loc[\"NFL\",\"NBA\"] should be the same as df.loc[\"NBA\",\"NFL\"] and\n",
    "    # df.loc[\"NFL\",\"NFL\"] should return np.nan\n",
    "    sports = ['NFL', 'NBA', 'NHL', 'MLB']\n",
    "    p_values = pd.DataFrame({k:np.nan for k in sports}, index=sports)\n",
    "    \n",
    "    assert abs(p_values.loc[\"NBA\", \"NHL\"] - 0.02) <= 1e-2, \"The NBA-NHL p-value should be around 0.02\"\n",
    "    assert abs(p_values.loc[\"MLB\", \"NFL\"] - 0.80) <= 1e-2, \"The MLB-NFL p-value should be around 0.80\"\n",
    "    return p_values"
   ]
  },
  {
   "cell_type": "code",
   "execution_count": null,
   "metadata": {
    "deletable": false,
    "editable": false,
    "nbgrader": {
     "cell_type": "code",
     "checksum": "2a596ab421a45cc01168d10e8fbb8f89",
     "grade": true,
     "grade_id": "cell-fb4b9cb5ff4570a6",
     "locked": true,
     "points": 20,
     "schema_version": 3,
     "solution": false
    }
   },
   "outputs": [],
   "source": []
  }
 ],
 "metadata": {
  "kernelspec": {
   "display_name": "Python 3 (ipykernel)",
   "language": "python",
   "name": "python3"
  },
  "language_info": {
   "codemirror_mode": {
    "name": "ipython",
    "version": 3
   },
   "file_extension": ".py",
   "mimetype": "text/x-python",
   "name": "python",
   "nbconvert_exporter": "python",
   "pygments_lexer": "ipython3",
   "version": "3.9.0"
  }
 },
 "nbformat": 4,
 "nbformat_minor": 4
}
