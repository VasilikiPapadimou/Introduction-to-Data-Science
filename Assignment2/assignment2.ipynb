{
 "cells": [
  {
   "attachments": {},
   "cell_type": "markdown",
   "metadata": {
    "deletable": false,
    "editable": false,
    "etc_identifier": "373a3605-5bda-4e1f-beef-04a0173d3f41",
    "nbgrader": {
     "cell_type": "markdown",
     "checksum": "ea942292eff37b50f364f842bcdd8ad9",
     "grade": false,
     "grade_id": "cell-a839e7b47494b4c3",
     "locked": true,
     "schema_version": 3,
     "solution": false
    }
   },
   "source": [
    "# Assignment 2\n",
    "\n",
    "For this assignment you'll be looking at 2017 data on immunizations from the CDC. Your datafile for this assignment is in [assets/NISPUF17.csv](assets/NISPUF17.csv). A data users guide for this, which you'll need to map the variables in the data to the questions being asked, is available at [assets/NIS-PUF17-DUG.pdf](assets/NIS-PUF17-DUG.pdf). **Note: you may have to go to your Jupyter tree (click on the Coursera image) and navigate to the assignment 2 assets folder to see this PDF file).**"
   ]
  },
  {
   "attachments": {},
   "cell_type": "markdown",
   "metadata": {
    "deletable": false,
    "editable": false,
    "hideCode": false,
    "hidePrompt": false,
    "nbgrader": {
     "cell_type": "markdown",
     "checksum": "f85bd44672080d80abd2a7f47aa0f1be",
     "grade": false,
     "grade_id": "cell-58fc2e5938733f6a",
     "locked": true,
     "schema_version": 3,
     "solution": false
    }
   },
   "source": [
    "## Question 1\n",
    "Write a function called `proportion_of_education` which returns the proportion of children in the dataset who had a mother with the education levels equal to less than high school (<=12), high school (12), more than high school but not a college graduate (>12) and college degree.\n",
    "\n",
    "*This function should return a dictionary in the form of (use the correct numbers, do not round numbers):* \n",
    "```\n",
    "    {\"less than high school\":0.2,\n",
    "    \"high school\":0.4,\n",
    "    \"more than high school but not college\":0.2,\n",
    "    \"college\":0.2}\n",
    "```"
   ]
  },
  {
   "cell_type": "code",
   "execution_count": 45,
   "metadata": {
    "deletable": false,
    "nbgrader": {
     "cell_type": "code",
     "checksum": "0ac58deb3f5ac988c643e903cbee7f3a",
     "grade": false,
     "grade_id": "cell-eea16d020eb52ae7",
     "locked": false,
     "schema_version": 3,
     "solution": true
    }
   },
   "outputs": [
    {
     "name": "stdout",
     "output_type": "stream",
     "text": [
      "{'less than high school': 0.1, 'high school': 0.17, 'more than high school but not college': 0.25, 'college': 0.48}\n"
     ]
    }
   ],
   "source": [
    "import pandas as pd\n",
    "\n",
    "def proportion_of_education():\n",
    "   df=pd.read_csv('assets/NISPUF17.csv', index_col=0)\n",
    "   columns_to_keep=df['EDUC1']\n",
    "   sortedEDUC1=df.sort_values(by=['EDUC1'])\n",
    "   t=columns_to_keep.count()\n",
    "   s=columns_to_keep.value_counts()    #series \n",
    "   proportion= s/t\n",
    "   prop=proportion.round(2)\n",
    "   # code for proportion of 1\n",
    "   prop1= {\"less than high school\": prop[1],\"high school\":prop[2],\"more than high school but not college\":prop[3],\"college\":prop[4]}\n",
    "   return prop1  \n",
    "   #prop1=dict({\"less than high school\": prop[1],\"high school\":prop[2],\"more than high school but not college\":prop[3],\"college\":prop[4]})\n",
    "   #the code line above isn't right because this isn't the right way to create a dictionary\n",
    "   raise NotImplementedError()\n",
    "print(proportion_of_education()) "
   ]
  },
  {
   "cell_type": "code",
   "execution_count": null,
   "metadata": {
    "deletable": false,
    "editable": false,
    "hideCode": false,
    "hidePrompt": false,
    "nbgrader": {
     "cell_type": "code",
     "checksum": "ac5d91a24a7f72f66c25d242c3d24a50",
     "grade": true,
     "grade_id": "cell-c0eeef201366f51c",
     "locked": true,
     "points": 1,
     "schema_version": 3,
     "solution": false
    }
   },
   "outputs": [],
   "source": [
    "assert type(proportion_of_education())==type({}), \"You must return a dictionary.\"\n",
    "assert len(proportion_of_education()) == 4, \"You have not returned a dictionary with four items in it.\"\n",
    "assert \"less than high school\" in proportion_of_education().keys(), \"You have not returned a dictionary with the correct keys.\"\n",
    "assert \"high school\" in proportion_of_education().keys(), \"You have not returned a dictionary with the correct keys.\"\n",
    "assert \"more than high school but not college\" in proportion_of_education().keys(), \"You have not returned a dictionary with the correct keys.\"\n",
    "assert \"college\" in proportion_of_education().keys(), \"You have not returned a dictionary with the correct keys.\"\n"
   ]
  },
  {
   "attachments": {},
   "cell_type": "markdown",
   "metadata": {
    "deletable": false,
    "editable": false,
    "nbgrader": {
     "cell_type": "markdown",
     "checksum": "562b78b7b9b79580269be0a3bebf4b42",
     "grade": false,
     "grade_id": "cell-8fcbb64516283f52",
     "locked": true,
     "schema_version": 3,
     "solution": false
    }
   },
   "source": [
    "## Question 2\n",
    "\n",
    "Let's explore the relationship between being fed breastmilk as a child and getting a seasonal influenza vaccine from a healthcare provider. Return a tuple of the average number of influenza vaccines for those children we know received breastmilk as a child and those who know did not.\n",
    "\n",
    "*This function should return a tuple in the form (use the correct numbers:*\n",
    "```\n",
    "(2.5, 0.1)\n",
    "```"
   ]
  },
  {
   "cell_type": "code",
   "execution_count": null,
   "metadata": {},
   "outputs": [],
   "source": [
    "import pandas as pd\n",
    "\n",
    "'''we want to compare the avg number of vaccines in relation to the children who have received breast milk'''\n",
    "# CBF_01 -> 1 : children have received breast milk\n",
    "#P_NUMFLU  the total number of seasonal influenza doses for each child\n",
    "df = pd.read_csv(\"assets/NISPUF17.csv\", index_col=0)    #df.head()\n",
    "sortedCBF=df.sort_values(by=['CBF_01','P_NUMFLU']) #we sort the initial DataFrame (df) according to the CBF_01 and P_NUMFLU\n",
    "#sortedCBF\n",
    "both= sortedCBF.loc[:,['CBF_01','P_NUMFLU']].dropna()  #Create a copy Dataframe with only these 2 columns and drop all the NA from \n",
    "                                                       # the data (the second column has NA values whilst the first contains the values \n",
    "                                                       # 1:YES has received BM /2:No/77:dont know/99:Missing)\n",
    "#both\n",
    "#get_cbf1 = both.where(both['CBF_01']==1).dropna()               #We get all the CBF_01 column where the value is ==1\n",
    "#get_Flu1 = get_cbf1.where(get_cbf1['P_NUMFLU']!=0).dropna()      #We get all the P_NUMFLU column where the value is >=1 and !=NA\n",
    "#get_Flu1\n",
    "#totalDoses1 = get_Flu1['P_NUMFLU'].sum() /len(get_Flu1)    #calculation of mean average of the second column (P_NUMFLU)\n",
    "#totalDoses1.round(1)                                     #the average number of vaccines in relation to the children who \n",
    "                                                        #have received breast milk\n",
    "\n",
    "'''and the avg number of vaccines for children who haven't received breast milk '''\n",
    "#CBF_01 -> 2: children who haven't received breast milk\n",
    "#P_NUMFLU  the total number of seasonal influenza doses for each child\n",
    "get_cbf2 = both.where(both['CBF_01']==1).dropna()               #We get all the CBF_01 column where the value is ==2\n",
    "get_Flu2 = get_cbf2.where(get_cbf2['P_NUMFLU']==0).dropna()      #We get all the P_NUMFLU column where the value is >=1 and !=NA\n",
    "get_Flu2\n",
    "#totalDoses2 = get_Flu2['P_NUMFLU'].sum() /len(get_Flu2)    #calculation of mean average of the second column (P_NUMFLU)\n",
    "#totalDoses2  \n"
   ]
  },
  {
   "cell_type": "code",
   "execution_count": null,
   "metadata": {
    "deletable": false,
    "nbgrader": {
     "cell_type": "code",
     "checksum": "a405d639063c4a6408365479f29c95c9",
     "grade": false,
     "grade_id": "cell-77f18c512324eabb",
     "locked": false,
     "schema_version": 3,
     "solution": true
    }
   },
   "outputs": [],
   "source": [
    "import pandas as pd\n",
    "def average_influenza_doses():\n",
    "    df = pd.read_csv(\"assets/NISPUF17.csv\", index_col=0)    #df.head()\n",
    "    sortedCBF=df.sort_values(by=['CBF_01','P_NUMFLU'])\n",
    "    both= sortedCBF.loc[:,['CBF_01','P_NUMFLU']]\n",
    "    both\n",
    "    get_cbf1 = both.where(both['CBF_01']==1)  #get_cbf1 gets -> CBF_01 : everything shorted  P_NUMFLU : Everything shorted\n",
    "    get_Flu1 = get_cbf1.where(get_cbf1['P_NUMFLU']>=0).mean()\n",
    "    #print(get_Flu1['P_NUMFLU'])\n",
    "\n",
    "    #----------------------------------------------------------------------------------------\n",
    "    get_cbf2 = both.where(both['CBF_01']==2)  #get_cbf1 gets -> CBF_01 : everything shorted  P_NUMFLU : Everything shorted\n",
    "    #get_cbf1\n",
    "    get_Flu2 = get_cbf2.where(get_cbf2['P_NUMFLU']>=0).mean()\n",
    "    return (get_Flu1['P_NUMFLU'],get_Flu2['P_NUMFLU'])\n",
    "    raise NotImplementedError()\n",
    "print(average_influenza_doses())"
   ]
  },
  {
   "cell_type": "code",
   "execution_count": null,
   "metadata": {
    "deletable": false,
    "editable": false,
    "nbgrader": {
     "cell_type": "code",
     "checksum": "19be955e97fdf7162d43fbb7c2c40951",
     "grade": true,
     "grade_id": "cell-54a3ba6cff31caa7",
     "locked": true,
     "points": 1,
     "schema_version": 3,
     "solution": false
    }
   },
   "outputs": [],
   "source": [
    "assert len(average_influenza_doses())==2, \"Return two values in a tuple, the first for yes and the second for no.\"\n"
   ]
  },
  {
   "attachments": {},
   "cell_type": "markdown",
   "metadata": {
    "deletable": false,
    "editable": false,
    "nbgrader": {
     "cell_type": "markdown",
     "checksum": "e10e2163f5957a0c398ef4f0b76b4efe",
     "grade": false,
     "grade_id": "cell-f63377f3c97aa7c4",
     "locked": true,
     "schema_version": 3,
     "solution": false
    }
   },
   "source": [
    "## Question 3\n",
    "It would be interesting to see if there is any evidence of a link between vaccine effectiveness and sex of the child. Calculate the ratio of the number of children who contracted chickenpox but were vaccinated against it (at least one varicella dose) versus those who were vaccinated but did not contract chicken pox. Return results by sex. \n",
    "\n",
    "*This function should return a dictionary in the form of (use the correct numbers):* \n",
    "```\n",
    "    {\"male\":0.2,\n",
    "    \"female\":0.4}\n",
    "```\n",
    "\n",
    "Note: To aid in verification, the `chickenpox_by_sex()['female']` value the autograder is looking for starts with the digits `0.0077`."
   ]
  },
  {
   "cell_type": "code",
   "execution_count": null,
   "metadata": {
    "deletable": false,
    "nbgrader": {
     "cell_type": "code",
     "checksum": "b4d1b58acae002bc73eb0b19f95bc4af",
     "grade": false,
     "grade_id": "cell-a0a9e6fe67698006",
     "locked": false,
     "schema_version": 3,
     "solution": true
    }
   },
   "outputs": [],
   "source": [
    "import pandas as pd\n",
    "def chickenpox_by_sex():\n",
    "    df=pd.read_csv('assets/NISPUF17.csv',index_col=0)\n",
    "    df\n",
    "    #SEQNUMC children  SEX of a child  HAD_CPOX – did child ever have chicken pox   P_NUMVRC – total number of varicella doses\n",
    "    sortSEX=df.sort_values(by=['SEX','HAD_CPOX'])\n",
    "    both= sortSEX.loc[:,['SEX', 'HAD_CPOX', 'P_NUMVRC']]\n",
    "    #both\n",
    "    #--------------------------------------------------------------------------------\n",
    "    fem_cpox = both.where(both['SEX']==2)  #ALL Female Children (SEX ==2) \n",
    "    p_numvrc_F= fem_cpox.where(fem_cpox['P_NUMVRC']>=1)   #...WHO WERE VACCINATED FOR CPOX\n",
    "\n",
    "    had_cpox1= p_numvrc_F.where(p_numvrc_F['HAD_CPOX']==1)   # 1 : is for those who HAD CPOX\n",
    "    had_cpox2= p_numvrc_F.where(p_numvrc_F['HAD_CPOX']==2)   # 2 : is for those who DIDN'T HAVE CPOX\n",
    "\n",
    "    resultF= had_cpox1['SEX'].count()/had_cpox2['SEX'].count()   #Here we ensure that we take only the girls\n",
    "    #print(resultF)\n",
    "    #----------------------------------------------------------------------------------\n",
    "    m_cpox = both.where(both['SEX']==1)  #ALL Male Children (SEX ==1) \n",
    "    p_numvrc_M= m_cpox.where(m_cpox['P_NUMVRC']>=1)   #...WHO WERE VACCINATED FOR CPOX\n",
    "\n",
    "    had_cpox1= p_numvrc_M.where(p_numvrc_M['HAD_CPOX']==1)   # 1 : is for those who HAD CPOX\n",
    "    had_cpox2= p_numvrc_M.where(p_numvrc_M['HAD_CPOX']==2)   # 2 : is for those who DIDN'T HAVE CPOX\n",
    "\n",
    "    resultM= had_cpox1['SEX'].count()/had_cpox2['SEX'].count()   #Here we ensure that we take only the boys\n",
    "    #print(resultM)\n",
    "\n",
    "    res_dict= {\"male\":resultM.round(5),\"female\":resultF.round(5)}\n",
    "    return res_dict    \n",
    "    raise NotImplementedError()\n",
    "print(chickenpox_by_sex())"
   ]
  },
  {
   "cell_type": "code",
   "execution_count": null,
   "metadata": {
    "deletable": false,
    "editable": false,
    "nbgrader": {
     "cell_type": "code",
     "checksum": "1b6a113a633c55699ae478a3a9ee9c33",
     "grade": true,
     "grade_id": "cell-c4f1714db100c865",
     "locked": true,
     "points": 1,
     "schema_version": 3,
     "solution": false
    }
   },
   "outputs": [],
   "source": [
    "assert len(chickenpox_by_sex())==2, \"Return a dictionary with two items, the first for males and the second for females.\"\n"
   ]
  },
  {
   "attachments": {},
   "cell_type": "markdown",
   "metadata": {},
   "source": [
    "## Question 4\n",
    "A correlation is a statistical relationship between two variables. If we wanted to know if vaccines work, we might look at the correlation between the use of the vaccine and whether it results in prevention of the infection or disease [1]. In this question, you are to see if there is a correlation between having had the chicken pox and the number of chickenpox vaccine doses given (varicella).\n",
    "\n",
    "Some notes on interpreting the answer. The `had_chickenpox_column` is either `1` (for yes) or `2` (for no), and the `num_chickenpox_vaccine_column` is the number of doses a child has been given of the varicella vaccine. A positive correlation (e.g., `corr > 0`) means that an increase in `had_chickenpox_column` (which means more no’s) would also increase the values of `num_chickenpox_vaccine_column` (which means more doses of vaccine). If there is a negative correlation (e.g., `corr < 0`), it indicates that having had chickenpox is related to an increase in the number of vaccine doses.\n",
    "\n",
    "Also, `pval` is the probability that we observe a correlation between `had_chickenpox_column` and `num_chickenpox_vaccine_column` which is greater than or equal to a particular value occurred by chance. A small `pval` means that the observed correlation is highly unlikely to occur by chance. In this case, `pval` should be very small (will end in `e-18` indicating a very small number).\n",
    "\n",
    "[1] This isn’t really the full picture, since we are not looking at when the dose was given. It’s possible that children had chickenpox and then their parents went to get them the vaccine. Does this dataset have the data we would need to investigate the timing of the dose?"
   ]
  },
  {
   "cell_type": "code",
   "execution_count": null,
   "metadata": {
    "deletable": false,
    "nbgrader": {
     "cell_type": "code",
     "checksum": "3e645859949447913cd11d30eb33cb1e",
     "grade": false,
     "grade_id": "cell-8afff07f564cf79a",
     "locked": false,
     "schema_version": 3,
     "solution": true
    }
   },
   "outputs": [],
   "source": [
    "def corr_chickenpox():\n",
    "    import scipy.stats as stats\n",
    "    import numpy as np\n",
    "    import pandas as pd\n",
    "    \n",
    "    # this is just an example dataframe\n",
    "    #df=pd.DataFrame({\"had_chickenpox_column\":np.random.randint(1,3,size=(100)),\n",
    "    #               \"num_chickenpox_vaccine_column\":np.random.randint(0,6,size=(100))})\n",
    "\n",
    "    # here is some stub code to actually run the correlation\n",
    "    #corr, pval=stats.pearsonr(df[\"had_chickenpox_column\"],df[\"num_chickenpox_vaccine_column\"])\n",
    "    \n",
    "    # just return the correlation\n",
    "    #return corr\n",
    "\n",
    "    # YOUR CODE HERE\n",
    "    df=pd.read_csv('assets/NISPUF17.csv',index_col=0)  #read the whole file\n",
    "    df=df.loc[:,['HAD_CPOX', 'P_NUMVRC']]  #locate the specific columns of the csv file \n",
    "    df=df.loc[df['HAD_CPOX'].lt(3)].dropna()  #locate the 'HAD_CPOX' and leave out the 77 and 99 records\n",
    "                                              # and drop all the NA of both the columns\n",
    "    df\n",
    "    corr, pval=stats.pearsonr(df['HAD_CPOX'],df['P_NUMVRC']) \n",
    "    return corr\n",
    "    raise NotImplementedError()\n",
    "print(corr_chickenpox())"
   ]
  },
  {
   "cell_type": "code",
   "execution_count": null,
   "metadata": {
    "deletable": false,
    "editable": false,
    "nbgrader": {
     "cell_type": "code",
     "checksum": "ac50ccb747b99f6bbcc76da017e66528",
     "grade": true,
     "grade_id": "cell-73408733533a29a5",
     "locked": true,
     "points": 1,
     "schema_version": 3,
     "solution": false
    }
   },
   "outputs": [],
   "source": [
    "assert -1<=corr_chickenpox()<=1, \"You must return a float number between -1.0 and 1.0.\"\n"
   ]
  }
 ],
 "metadata": {
  "anaconda-cloud": {},
  "hide_code_all_hidden": false,
  "kernelspec": {
   "display_name": "Python 3 (ipykernel)",
   "language": "python",
   "name": "python3"
  },
  "language_info": {
   "codemirror_mode": {
    "name": "ipython",
    "version": 3
   },
   "file_extension": ".py",
   "mimetype": "text/x-python",
   "name": "python",
   "nbconvert_exporter": "python",
   "pygments_lexer": "ipython3",
   "version": "3.9.0"
  }
 },
 "nbformat": 4,
 "nbformat_minor": 4
}
